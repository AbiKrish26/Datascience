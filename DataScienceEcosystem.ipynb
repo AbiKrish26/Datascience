{
 "cells": [
  {
   "cell_type": "markdown",
   "id": "a98c881a-9128-47dd-be58-4317efaef8d2",
   "metadata": {},
   "source": [
    "# Data Science Tools and Ecosystem"
   ]
  },
  {
   "cell_type": "markdown",
   "id": "ab568d06-133a-4b95-8513-42744acb0ce6",
   "metadata": {},
   "source": [
    "# Data Science Tools and Ecosystem"
   ]
  },
  {
   "cell_type": "code",
   "execution_count": 1,
   "id": "1a741f52-3398-417e-9c37-e1f5fc732fe8",
   "metadata": {},
   "outputs": [],
   "source": [
    "#In this notebook, Data Science Tools and Ecosystem are summarized."
   ]
  },
  {
   "cell_type": "markdown",
   "id": "ac0028bb-7393-45bf-a6fb-246831cc534d",
   "metadata": {},
   "source": [
    "#Some of the popular languages that Data Scientists use are:\n",
    "\n",
    "1. Python\n",
    "2. R\n",
    "3. SQL"
   ]
  },
  {
   "cell_type": "markdown",
   "id": "0877a4de-4d4e-4478-a1a6-9d2d43032ffd",
   "metadata": {},
   "source": [
    "# Objectives:\n",
    "\n",
    "- List popular languages for Data Science.  \r\n",
    "- Convert units using arithmetic expressions in Python.\n",
    "- Introduce arithmetic expressions in Python.\n",
    "- Demonstrate basic arithmetic operations in python..n."
   ]
  },
  {
   "cell_type": "markdown",
   "id": "a55c3b86-db7a-4f34-b582-415249bd2873",
   "metadata": {},
   "source": [
    "#Some of the commonly used libraries used by Data Scientists include:\n",
    "1. NumPy\r\n",
    "2. Pandas\r\n",
    "3. Matplotlib\r\n",
    "4. Scikit-learn\r\n",
    "5. TensorFlow"
   ]
  },
  {
   "cell_type": "markdown",
   "id": "6d0fb3c7-cc63-470d-8e6c-d60474c0c218",
   "metadata": {},
   "source": [
    " Data Science Tools | Jupyt r Notebo | RStudi| VisuS Stud o Cod |"
   ]
  },
  {
   "cell_type": "markdown",
   "id": "4f93084f-2205-4c47-8445-507d51f874da",
   "metadata": {},
   "source": [
    "# Addition\n",
    "result_addition = 10 + 5\n",
    "print(\"Addition result:\", result_addition)\n",
    "\n",
    "# Subtraction\n",
    "result_subtraction = 20 - 8\n",
    "print(\"Subtraction result:\", result_subtraction)\n",
    "\n",
    "# Multiplication\n",
    "result_multiplication = 6 * 4\n",
    "print(\"Multiplication result:\", result_multiplication)\n",
    "\n",
    "# Division\n",
    "result_division = 25 / 5\n",
    "print(\"Division result:\", result_division)"
   ]
  },
  {
   "cell_type": "markdown",
   "id": "4af5cd77-13f3-42ef-aa88-a758892fc731",
   "metadata": {},
   "source": [
    "### Arithmetic Expression Examples"
   ]
  },
  {
   "cell_type": "markdown",
   "id": "c3f79dc0-2355-4a85-98ea-ded986278da1",
   "metadata": {},
   "source": [
    "#Below are a few examples of evaluating arithmetic expressions in Python\n",
    "(3*4)+5."
   ]
  },
  {
   "cell_type": "code",
   "execution_count": 9,
   "id": "524345a6-63f6-4eb4-9b3a-c6077f7a609d",
   "metadata": {},
   "outputs": [
    {
     "data": {
      "text/plain": [
       "17"
      ]
     },
     "execution_count": 9,
     "metadata": {},
     "output_type": "execute_result"
    }
   ],
   "source": [
    "(3*4)+5"
   ]
  },
  {
   "cell_type": "code",
   "execution_count": 11,
   "id": "cb41ecfe-bf08-4bb9-ab94-862b25995310",
   "metadata": {},
   "outputs": [
    {
     "data": {
      "text/plain": [
       "3.3333333333333335"
      ]
     },
     "execution_count": 11,
     "metadata": {},
     "output_type": "execute_result"
    }
   ],
   "source": [
    "# This will convert 200 minutes to hours by dividing by 60.\n",
    "minutes = 200\n",
    "hours = minutes / 60\n",
    "hours"
   ]
  },
  {
   "cell_type": "markdown",
   "id": "9c37312d-d8e9-4c3a-84c5-eccbc8c8c9b6",
   "metadata": {},
   "source": [
    "## Author\n",
    " Abirami"
   ]
  },
  {
   "cell_type": "code",
   "execution_count": null,
   "id": "7c93139e-ef6b-4f1e-92f9-8fa06cdf29dc",
   "metadata": {},
   "outputs": [],
   "source": []
  }
 ],
 "metadata": {
  "kernelspec": {
   "display_name": "Python 3 (ipykernel)",
   "language": "python",
   "name": "python3"
  },
  "language_info": {
   "codemirror_mode": {
    "name": "ipython",
    "version": 3
   },
   "file_extension": ".py",
   "mimetype": "text/x-python",
   "name": "python",
   "nbconvert_exporter": "python",
   "pygments_lexer": "ipython3",
   "version": "3.12.0"
  }
 },
 "nbformat": 4,
 "nbformat_minor": 5
}
